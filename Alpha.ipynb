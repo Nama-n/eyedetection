{
 "cells": [
  {
   "cell_type": "code",
   "execution_count": 2,
   "id": "bigger-vault",
   "metadata": {},
   "outputs": [
    {
     "name": "stdout",
     "output_type": "stream",
     "text": [
      "Collecting cmake\n",
      "  Downloading cmake-3.18.4.post1-py3-none-win_amd64.whl (34.7 MB)\n",
      "Installing collected packages: cmake\n",
      "Successfully installed cmake-3.18.4.post1\n",
      "Note: you may need to restart the kernel to use updated packages.\n"
     ]
    }
   ],
   "source": [
    "pip install cmake"
   ]
  },
  {
   "cell_type": "code",
   "execution_count": 1,
   "id": "upset-northwest",
   "metadata": {},
   "outputs": [
    {
     "name": "stdout",
     "output_type": "stream",
     "text": [
      "Collecting dlib\n",
      "  Using cached dlib-19.21.1.tar.gz (3.6 MB)\n",
      "Building wheels for collected packages: dlib\n",
      "  Building wheel for dlib (setup.py): started\n",
      "  Building wheel for dlib (setup.py): still running...\n",
      "  Building wheel for dlib (setup.py): still running...\n",
      "  Building wheel for dlib (setup.py): still running...\n",
      "  Building wheel for dlib (setup.py): finished with status 'done'\n",
      "  Created wheel for dlib: filename=dlib-19.21.1-cp37-cp37m-win_amd64.whl size=3119504 sha256=dea6a35493571e313cfebfd27caffdd0efd139be0d580db9e197317d418bae85\n",
      "  Stored in directory: c:\\users\\naman\\appdata\\local\\pip\\cache\\wheels\\5d\\c7\\2e\\dbc03dee6b56b674ceaff67b19bd80de63f09bacafde5cb78d\n",
      "Successfully built dlib\n",
      "Installing collected packages: dlib\n",
      "Successfully installed dlib-19.21.1\n",
      "Note: you may need to restart the kernel to use updated packages.\n"
     ]
    }
   ],
   "source": [
    "pip install dlib\n"
   ]
  },
  {
   "cell_type": "code",
   "execution_count": 4,
   "id": "hired-tuner",
   "metadata": {},
   "outputs": [],
   "source": [
    "import cv2\n",
    "import dlib\n",
    "import numpy as np\n",
    "\n",
    "def shape_to_np(shape, dtype=\"int\"):\n",
    "\t# initialize the list of (x, y)-coordinates\n",
    "\tcoords = np.zeros((68, 2), dtype=dtype)\n",
    "\t# loop over the 68 facial landmarks and convert them\n",
    "\t# to a 2-tuple of (x, y)-coordinates\n",
    "\tfor i in range(0, 68):\n",
    "\t\tcoords[i] = (shape.part(i).x, shape.part(i).y)\n",
    "\t# return the list of (x, y)-coordinates\n",
    "\treturn coords\n",
    "\n",
    "def eye_on_mask(mask, side):\n",
    "    points = [shape[i] for i in side]\n",
    "    points = np.array(points, dtype=np.int32)\n",
    "    mask = cv2.fillConvexPoly(mask, points, 255)\n",
    "    return mask\n",
    "\n",
    "def contouring(thresh, mid, img, right=False):\n",
    "    cnts, _ = cv2.findContours(thresh, cv2.RETR_EXTERNAL,cv2.CHAIN_APPROX_NONE)\n",
    "    try:\n",
    "        cnt = max(cnts, key = cv2.contourArea)\n",
    "        M = cv2.moments(cnt)\n",
    "        cx = int(M['m10']/M['m00'])\n",
    "        cy = int(M['m01']/M['m00'])\n",
    "        if right:\n",
    "            cx += mid\n",
    "        cv2.circle(img, (cx, cy), 4, (0, 0, 255), 2)\n",
    "    except:\n",
    "        pass\n",
    "\n",
    "detector = dlib.get_frontal_face_detector()\n",
    "predictor = dlib.shape_predictor('shape_68.dat')\n",
    "\n",
    "left = [36, 37, 38, 39, 40, 41]\n",
    "right = [42, 43, 44, 45, 46, 47]\n",
    "\n",
    "cap = cv2.VideoCapture(0)\n",
    "ret, img = cap.read()\n",
    "thresh = img.copy()\n",
    "\n",
    "cv2.namedWindow('image')\n",
    "kernel = np.ones((9, 9), np.uint8)\n",
    "\n",
    "def nothing(x):\n",
    "    pass\n",
    "cv2.createTrackbar('threshold', 'image', 0, 255, nothing)\n",
    "\n",
    "while(True):\n",
    "    ret, img = cap.read()\n",
    "    gray = cv2.cvtColor(img, cv2.COLOR_BGR2GRAY)\n",
    "    rects = detector(gray, 1)\n",
    "    for rect in rects:\n",
    "\n",
    "        shape = predictor(gray, rect)\n",
    "        shape = shape_to_np(shape)\n",
    "        mask = np.zeros(img.shape[:2], dtype=np.uint8)\n",
    "        mask = eye_on_mask(mask, left)\n",
    "        mask = eye_on_mask(mask, right)\n",
    "        mask = cv2.dilate(mask, kernel, 5)\n",
    "        eyes = cv2.bitwise_and(img, img, mask=mask)\n",
    "        mask = (eyes == [0, 0, 0]).all(axis=2)\n",
    "        eyes[mask] = [255, 255, 255]\n",
    "        mid = (shape[42][0] + shape[39][0]) // 2\n",
    "        eyes_gray = cv2.cvtColor(eyes, cv2.COLOR_BGR2GRAY)\n",
    "        threshold = cv2.getTrackbarPos('threshold', 'image')\n",
    "        _, thresh = cv2.threshold(eyes_gray, threshold, 255, cv2.THRESH_BINARY)\n",
    "        thresh = cv2.erode(thresh, None, iterations=2) #1\n",
    "        thresh = cv2.dilate(thresh, None, iterations=4) #2\n",
    "        thresh = cv2.medianBlur(thresh, 3) #3\n",
    "        thresh = cv2.bitwise_not(thresh)\n",
    "        contouring(thresh[:, 0:mid], mid, img)\n",
    "        contouring(thresh[:, mid:], mid, img, True)\n",
    "        # for (x, y) in shape[36:48]:\n",
    "        #     cv2.circle(img, (x, y), 2, (255, 0, 0), -1)\n",
    "    # show the image with the face detections + facial landmarks\n",
    "    cv2.imshow('eyes', img)\n",
    "    cv2.imshow(\"image\", thresh)\n",
    "    if cv2.waitKey(1) & 0xFF == ord('q'):\n",
    "        break\n",
    "    \n",
    "cap.release()\n",
    "cv2.destroyAllWindows()"
   ]
  },
  {
   "cell_type": "code",
   "execution_count": null,
   "id": "diverse-thesis",
   "metadata": {},
   "outputs": [],
   "source": []
  }
 ],
 "metadata": {
  "kernelspec": {
   "display_name": "Python 3",
   "language": "python",
   "name": "python3"
  },
  "language_info": {
   "codemirror_mode": {
    "name": "ipython",
    "version": 3
   },
   "file_extension": ".py",
   "mimetype": "text/x-python",
   "name": "python",
   "nbconvert_exporter": "python",
   "pygments_lexer": "ipython3",
   "version": "3.7.0"
  }
 },
 "nbformat": 4,
 "nbformat_minor": 5
}
